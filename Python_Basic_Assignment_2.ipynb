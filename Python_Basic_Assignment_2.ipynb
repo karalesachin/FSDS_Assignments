{
 "cells": [
  {
   "cell_type": "code",
   "execution_count": null,
   "id": "04071c0e",
   "metadata": {},
   "outputs": [],
   "source": [
    "1. What are the two values of the Boolean data type? How do you write them?\n",
    "\n",
    "Solution : True and False"
   ]
  },
  {
   "cell_type": "code",
   "execution_count": null,
   "id": "edbf2d15",
   "metadata": {},
   "outputs": [],
   "source": [
    "2. What are the three different types of Boolean operators?\n",
    "\n",
    "Solution: AND, OR, NOT"
   ]
  },
  {
   "cell_type": "code",
   "execution_count": null,
   "id": "bed40c0a",
   "metadata": {},
   "outputs": [],
   "source": [
    "3. Make a list of each Boolean operator's truth tables (i.e. every possible combination of Boolean values for the operator and what it evaluate ).\n",
    "\n",
    "Solution:\n",
    "True=1, False=0\n",
    "\n",
    "AND Operator\n",
    "True AND True = True\n",
    "True AND False = False\n",
    "False AND True = False\n",
    "False AND False = False\n",
    "\n",
    "OR Operator\n",
    "True OR True = True\n",
    "True OR False = True\n",
    "False OR True = True\n",
    "False OR False = False\n",
    "\n",
    "NOT Operator\n",
    "NOT(True) = False\n",
    "NOT(False) = True"
   ]
  },
  {
   "cell_type": "code",
   "execution_count": null,
   "id": "c1630c78",
   "metadata": {},
   "outputs": [],
   "source": [
    "4. What are the values of the following expressions?\n",
    "\n",
    "Solution:\n",
    "(5 > 4) and (3 == 5)   False\n",
    "\n",
    "not (5 > 4)   False\n",
    "\n",
    "(5 > 4) or (3 == 5)  True\n",
    "\n",
    "not ((5 > 4) or (3 == 5))  False\n",
    "\n",
    "(True and True) and (True == False)  False\n",
    "\n",
    "(not False) or (not True)  True"
   ]
  },
  {
   "cell_type": "code",
   "execution_count": null,
   "id": "3090ae55",
   "metadata": {},
   "outputs": [],
   "source": [
    "5. What are the six comparison operators?\n",
    "\n",
    "Solution:\n",
    "Greater than \">\"\n",
    "Less than \"<\"\n",
    "Greater than equal to \">=\"\n",
    "Less than equal to \"<=\"\n",
    "Equal to \"==\"\n",
    "Not Equal to \"!=\""
   ]
  },
  {
   "cell_type": "code",
   "execution_count": null,
   "id": "875b511c",
   "metadata": {},
   "outputs": [],
   "source": [
    "6. How do you tell the difference between the equal to and assignment operators? Describe a condition and when you would use one.\n",
    "\n",
    "Solution:\n",
    "The assignment operator \"=\" is used to assign the value on the right to variable on the left.\n",
    "E.g. a=5, b=10\n",
    "\n",
    "The equal to operator (==) checks whether the two operands are equal or not. The result type of these operators is boolean. The equal to operator return value true if operands have the same value, else will return false. The equality operator has higher precedence than assignment operator.\n",
    "E.g. 5==5, a==b"
   ]
  },
  {
   "cell_type": "code",
   "execution_count": null,
   "id": "e4ee82b8",
   "metadata": {},
   "outputs": [],
   "source": [
    "7. Identify the three blocks in this code:\n",
    "spam = 0\n",
    "if spam == 10:\n",
    "    print('eggs')\n",
    "if spam > 5:\n",
    "    print('bacon')\n",
    "else:\n",
    "    print('ham')\n",
    "    print('spam')\n",
    "    print('spam')\n",
    "\n",
    "Solution:\n",
    "Block1:\n",
    "if spam == 10:\n",
    "    print('eggs')\n",
    "\n",
    "Block2:\n",
    "if spam > 5:\n",
    "    print('bacon')\n",
    "\n",
    "Block3\n",
    "else:\n",
    "    print('ham)\n",
    "    print('spam')\n",
    "    print('spam')\n"
   ]
  },
  {
   "cell_type": "code",
   "execution_count": null,
   "id": "f630aec8",
   "metadata": {},
   "outputs": [],
   "source": [
    "8. Write code that prints Hello if 1 is stored in spam, prints Howdy if 2 is stored in spam, and prints Greetings! if anything else is stored in spam.\n",
    "\n",
    "Solution:\n",
    "spam=int(input())\n",
    "\n",
    "if spam==1:\n",
    "    print(\"Hello\")\n",
    "elif spam==2:\n",
    "    print(\"Howdy\")\n",
    "else:\n",
    "    print(\"Greetings!\")"
   ]
  },
  {
   "cell_type": "code",
   "execution_count": null,
   "id": "4daaf9b8",
   "metadata": {},
   "outputs": [],
   "source": [
    "9. If your programme is stuck in an endless loop, what keys you’ll press?\n",
    "\n",
    "Solution:\n",
    "Ctrl + C or Kernel-Interrupt."
   ]
  },
  {
   "cell_type": "code",
   "execution_count": null,
   "id": "fb9c27c6",
   "metadata": {},
   "outputs": [],
   "source": [
    "10. How can you tell the difference between break and continue?\n",
    "\n",
    "Solution:\n",
    "The break statement terminates the loop that uses it. When the break statement is used in a nested loop, the current loop will terminate and the code that follows the loop will be executed.\n",
    "\n",
    "When the continue statement is executed, it does not exit the loop structure, however immediately ends the current loop and starts the next loop again. It continues to loop and the statements in the loop body after continue will be executed only once continue loop terminates."
   ]
  },
  {
   "cell_type": "code",
   "execution_count": null,
   "id": "23fa1c91",
   "metadata": {},
   "outputs": [],
   "source": [
    "11. In a for loop, what is the difference between range(10), range(0, 10), and range(0, 10, 1)?\n",
    "\n",
    "Solution:\n",
    "In a for loop, range(10), range(0, 10), and range(0, 10, 1) will give the same result."
   ]
  },
  {
   "cell_type": "code",
   "execution_count": null,
   "id": "b20b5dac",
   "metadata": {},
   "outputs": [],
   "source": [
    "12. Write a short program that prints the numbers 1 to 10 using a for loop. Then write an equivalent program that prints the numbers 1 to 10 using a while loop.\n",
    "\n",
    "Solution:\n",
    "a=100\n",
    "for i in range(1,a):\n",
    "    print (i)\n",
    "    if i==10:\n",
    "        break\n",
    "        \n",
    "a=0\n",
    "while a<10:\n",
    "    a+=1\n",
    "    print(a)"
   ]
  },
  {
   "cell_type": "code",
   "execution_count": null,
   "id": "7892fac0",
   "metadata": {},
   "outputs": [],
   "source": [
    "13. If you had a function named bacon() inside a module named spam, how would you call it after importing spam?\n",
    "\n",
    "Solution:\n",
    "spam.bacon()"
   ]
  },
  {
   "cell_type": "code",
   "execution_count": null,
   "id": "ba0ec65e",
   "metadata": {},
   "outputs": [],
   "source": []
  }
 ],
 "metadata": {
  "kernelspec": {
   "display_name": "Python 3 (ipykernel)",
   "language": "python",
   "name": "python3"
  },
  "language_info": {
   "codemirror_mode": {
    "name": "ipython",
    "version": 3
   },
   "file_extension": ".py",
   "mimetype": "text/x-python",
   "name": "python",
   "nbconvert_exporter": "python",
   "pygments_lexer": "ipython3",
   "version": "3.9.7"
  }
 },
 "nbformat": 4,
 "nbformat_minor": 5
}
