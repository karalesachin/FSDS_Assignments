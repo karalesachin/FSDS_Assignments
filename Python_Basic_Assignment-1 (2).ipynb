{
 "cells": [
  {
   "cell_type": "raw",
   "id": "d09b3933",
   "metadata": {},
   "source": [
    "# 1. In the below elements which of them are values or an expression? eg:- values can be integer or string and expressions will be mathematical operators.\n",
    "\n",
    "Solution:\n",
    "\n",
    "*        Expression\n",
    "\n",
    "'hello'  Value\n",
    "\n",
    "-87.8    Value\n",
    "\n",
    "-        Expression\n",
    "\n",
    "/        Expression\n",
    "\n",
    "+        Expression\n",
    "\n",
    "6        Value\n"
   ]
  },
  {
   "cell_type": "raw",
   "id": "e0cf949c",
   "metadata": {},
   "source": [
    "2. What is the difference between string and variable?\n",
    "\n",
    "Solution:\n",
    "String is a value which represents Text. Variable is an entity which refers to any value such as integer, float, string, boolean, list, dictonary, etc."
   ]
  },
  {
   "cell_type": "raw",
   "id": "bbe70ff1",
   "metadata": {},
   "source": [
    "3. Describe three different data types.\n",
    "\n",
    "Solution:\n",
    "a) Numeric data types - represents data which has numeric value \n",
    "    - Integer - contains positive or negative whole numbers (without fraction or decimal)\n",
    "    - Float - real number with floating point representation. It is specified by decimal point.\n",
    "    - Complex Numbers - it is specified as real part + imaginary part.\n",
    "    \n",
    "b) Sequence type - ordered collection of similar or different data types.\n",
    "    - String - collection of one or more characters put in single or double quote.\n",
    "    - List - collection of items which can be of same or different type and are placed in square brackets [].\n",
    "    - Tuple - collection of items which are immutable i.e. cannot be modified after creation and are placed in ().\n",
    "    \n",
    "c) Boolean which has one of the two built-in values, True or False."
   ]
  },
  {
   "cell_type": "raw",
   "id": "78be1cbe",
   "metadata": {},
   "source": [
    "4. What is an expression made up of? What do all expressions do?\n",
    "\n",
    "Solution:\n",
    "Expression comprises values, operators, variables and containers. Expressions are used to evaluate values with help of operators and produce the result to the user or store in some variable or container."
   ]
  },
  {
   "cell_type": "raw",
   "id": "fc5af15a",
   "metadata": {},
   "source": [
    "5. This assignment statements, like spam = 10. What is the difference between an expression and a statement?\n",
    "\n",
    "Solution:\n",
    "Expression is combination of values, operators, variables and containers which executes and returns a result.\n",
    "\n",
    "Statement is an instruction or command that python interpreter executes and does not return any value."
   ]
  },
  {
   "cell_type": "raw",
   "id": "3bec3425",
   "metadata": {},
   "source": [
    "6. After running the following code, what does the variable bacon contain?\n",
    "bacon = 22\n",
    "bacon + 1\n",
    "\n",
    "Solution:\n",
    "bacon variable contains 23."
   ]
  },
  {
   "cell_type": "code",
   "execution_count": 8,
   "id": "ba7cc29b",
   "metadata": {},
   "outputs": [
    {
     "data": {
      "text/plain": [
       "23"
      ]
     },
     "execution_count": 8,
     "metadata": {},
     "output_type": "execute_result"
    }
   ],
   "source": [
    "bacon=22\n",
    "bacon+1"
   ]
  },
  {
   "cell_type": "raw",
   "id": "200266cf",
   "metadata": {},
   "source": [
    "7. What should the values of the following two terms be?\n",
    "'spam' + 'spamspam'\n",
    "'spam' * 3\n",
    "\n",
    "Solution:\n",
    "'spamspamspam'\n",
    "'spamspamspam"
   ]
  },
  {
   "cell_type": "code",
   "execution_count": 9,
   "id": "2c91e95f",
   "metadata": {},
   "outputs": [
    {
     "data": {
      "text/plain": [
       "'spamspamspam'"
      ]
     },
     "execution_count": 9,
     "metadata": {},
     "output_type": "execute_result"
    }
   ],
   "source": [
    "'spam'+'spamspam'"
   ]
  },
  {
   "cell_type": "code",
   "execution_count": 10,
   "id": "e573ec60",
   "metadata": {},
   "outputs": [
    {
     "data": {
      "text/plain": [
       "'spamspamspam'"
      ]
     },
     "execution_count": 10,
     "metadata": {},
     "output_type": "execute_result"
    }
   ],
   "source": [
    "'spam'*3"
   ]
  },
  {
   "cell_type": "raw",
   "id": "1a1af637",
   "metadata": {},
   "source": [
    "8. Why is eggs a valid variable name while 100 is invalid?\n",
    "\n",
    "Solution:\n",
    "Variable name should begin with string, hence eggs is valid variable name. However variable name cannot start with an integer, hence 100 is an invalid variable name."
   ]
  },
  {
   "cell_type": "raw",
   "id": "7092259b",
   "metadata": {},
   "source": [
    "9. What three functions can be used to get the integer, floating-point number, or string version of a value?\n",
    "\n",
    "Solution:\n",
    "int()\n",
    "float()\n",
    "str()"
   ]
  },
  {
   "cell_type": "raw",
   "id": "da212611",
   "metadata": {},
   "source": [
    "10. Why does this expression cause an error? How can you fix it?\n",
    "'I have eaten ' + 99 + ' burritos.'\n",
    "\n",
    "Solution:\n",
    "Error message : can only concatenate str (not \"int\") to str.\n",
    "Integer 99 need to be typecasted to str to execute this expression.\n",
    "'I have eaten ' + str(99) + ' burritos.'"
   ]
  },
  {
   "cell_type": "code",
   "execution_count": 11,
   "id": "51cfd1f9",
   "metadata": {},
   "outputs": [
    {
     "ename": "TypeError",
     "evalue": "can only concatenate str (not \"int\") to str",
     "output_type": "error",
     "traceback": [
      "\u001b[1;31m---------------------------------------------------------------------------\u001b[0m",
      "\u001b[1;31mTypeError\u001b[0m                                 Traceback (most recent call last)",
      "\u001b[1;32mC:\\Users\\SACHIN~1\\AppData\\Local\\Temp/ipykernel_11528/1774935878.py\u001b[0m in \u001b[0;36m<module>\u001b[1;34m\u001b[0m\n\u001b[1;32m----> 1\u001b[1;33m \u001b[1;34m'I have eaten '\u001b[0m \u001b[1;33m+\u001b[0m \u001b[1;36m99\u001b[0m \u001b[1;33m+\u001b[0m \u001b[1;34m' burritos.'\u001b[0m\u001b[1;33m\u001b[0m\u001b[1;33m\u001b[0m\u001b[0m\n\u001b[0m",
      "\u001b[1;31mTypeError\u001b[0m: can only concatenate str (not \"int\") to str"
     ]
    }
   ],
   "source": [
    "'I have eaten ' + 99 + ' burritos.'"
   ]
  },
  {
   "cell_type": "code",
   "execution_count": 12,
   "id": "fb5d8638",
   "metadata": {},
   "outputs": [
    {
     "data": {
      "text/plain": [
       "'I have eaten 99 burritos.'"
      ]
     },
     "execution_count": 12,
     "metadata": {},
     "output_type": "execute_result"
    }
   ],
   "source": [
    "'I have eaten ' + str(99) + ' burritos.'"
   ]
  },
  {
   "cell_type": "code",
   "execution_count": null,
   "id": "379b5a6e",
   "metadata": {},
   "outputs": [],
   "source": []
  }
 ],
 "metadata": {
  "kernelspec": {
   "display_name": "Python 3 (ipykernel)",
   "language": "python",
   "name": "python3"
  },
  "language_info": {
   "codemirror_mode": {
    "name": "ipython",
    "version": 3
   },
   "file_extension": ".py",
   "mimetype": "text/x-python",
   "name": "python",
   "nbconvert_exporter": "python",
   "pygments_lexer": "ipython3",
   "version": "3.9.7"
  }
 },
 "nbformat": 4,
 "nbformat_minor": 5
}
