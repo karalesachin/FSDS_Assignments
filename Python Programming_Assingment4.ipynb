{
 "cells": [
  {
   "cell_type": "code",
   "execution_count": 18,
   "id": "79110386",
   "metadata": {},
   "outputs": [
    {
     "name": "stdout",
     "output_type": "stream",
     "text": [
      "5\n",
      "Factorial of 5 is 120\n"
     ]
    }
   ],
   "source": [
    "# 1.Write a Python Program to Find the Factorial of a Number?\n",
    "\n",
    "try:\n",
    "    a = int(input())\n",
    "    b=1\n",
    "    for i in range(1,a+1):\n",
    "        b = b*i\n",
    "    print(\"Factorial of\",a,\"is\",b)\n",
    "    \n",
    "except Exception as e:\n",
    "    print(e)"
   ]
  },
  {
   "cell_type": "code",
   "execution_count": 34,
   "id": "98f95b80",
   "metadata": {
    "scrolled": true
   },
   "outputs": [
    {
     "name": "stdout",
     "output_type": "stream",
     "text": [
      "7\n",
      "7 x 1 = 7\n",
      "7 x 2 = 14\n",
      "7 x 3 = 21\n",
      "7 x 4 = 28\n",
      "7 x 5 = 35\n",
      "7 x 6 = 42\n",
      "7 x 7 = 49\n",
      "7 x 8 = 56\n",
      "7 x 9 = 63\n",
      "7 x 10 = 70\n"
     ]
    }
   ],
   "source": [
    "# 2.Write a Python Program to Display the multiplication Table?\n",
    "\n",
    "try:\n",
    "    a = int(input())\n",
    "    for i in range(1,11):\n",
    "        print(a,\"x\",i,\"=\",a*i)\n",
    "except Exception as e:\n",
    "    print(e)"
   ]
  },
  {
   "cell_type": "code",
   "execution_count": 32,
   "id": "cadf5659",
   "metadata": {},
   "outputs": [
    {
     "name": "stdout",
     "output_type": "stream",
     "text": [
      "10\n",
      "0\n",
      "1\n",
      "1\n",
      "2\n",
      "3\n",
      "5\n",
      "8\n",
      "13\n",
      "21\n",
      "34\n",
      "55\n"
     ]
    }
   ],
   "source": [
    "# 3.Write a Python Program to Print the Fibonacci sequence?\n",
    "\n",
    "def fib():\n",
    "    try:\n",
    "        a=int(input())\n",
    "        if a<0:\n",
    "            print(\"enter positive integer\")\n",
    "        elif a == 0:\n",
    "            print(a)\n",
    "        elif a ==1:\n",
    "            print(a-1)\n",
    "            print(a)\n",
    "        else:\n",
    "            p=0\n",
    "            q=1\n",
    "            print(p)\n",
    "            print(q)\n",
    "            for i in range(2,a+1):\n",
    "                r=p+q\n",
    "                p=q\n",
    "                q=r\n",
    "                print(r)\n",
    "    except Exception as e:\n",
    "        print(e)      \n",
    "\n",
    "fib()"
   ]
  },
  {
   "cell_type": "code",
   "execution_count": 41,
   "id": "5d04ba0f",
   "metadata": {},
   "outputs": [
    {
     "name": "stdout",
     "output_type": "stream",
     "text": [
      "1634\n",
      "1634 is an Armstrong Number\n"
     ]
    }
   ],
   "source": [
    "# 4.Write a Python Program to Check Armstrong Number?\n",
    "\n",
    "def Armstrong():\n",
    "    try:\n",
    "        a=int(input())\n",
    "        b=str(a)\n",
    "        c=0\n",
    "        for i in range(len(b)):\n",
    "            c = c + int(b[i])**len(b)\n",
    "        if c == a:\n",
    "            print(a, \"is an Armstrong Number\")\n",
    "        else:\n",
    "            print(a, \"is not an Armstrong Number\")\n",
    "\n",
    "    except Exception as e:\n",
    "        print(e)\n",
    "\n",
    "Armstrong()"
   ]
  },
  {
   "cell_type": "code",
   "execution_count": 45,
   "id": "663954a0",
   "metadata": {},
   "outputs": [
    {
     "name": "stdout",
     "output_type": "stream",
     "text": [
      "100\n",
      "2000\n",
      "153 is an Armstrong Number\n",
      "370 is an Armstrong Number\n",
      "371 is an Armstrong Number\n",
      "407 is an Armstrong Number\n",
      "1634 is an Armstrong Number\n"
     ]
    }
   ],
   "source": [
    "# 5.Write a Python Program to Find Armstrong Number in an Interval?\n",
    "\n",
    "\n",
    "def Armstrong1():\n",
    "    try:\n",
    "        a=int(input())\n",
    "        p=int(input())\n",
    "        for i in range(a,p+1):\n",
    "            b=str(i)\n",
    "            c=0\n",
    "            for j in range(len(b)):\n",
    "                c = c + int(b[j])**len(b)\n",
    "            if c == i:\n",
    "                print(i, \"is an Armstrong Number\")\n",
    "    except Exception as e:\n",
    "        print(e)\n",
    "\n",
    "Armstrong1()"
   ]
  },
  {
   "cell_type": "code",
   "execution_count": 57,
   "id": "427e1735",
   "metadata": {},
   "outputs": [
    {
     "name": "stdout",
     "output_type": "stream",
     "text": [
      "20\n",
      "Sum of first 20 natural numbers is 210\n"
     ]
    }
   ],
   "source": [
    "# 6.Write a Python Program to Find the Sum of Natural Numbers?\n",
    "\n",
    "try:\n",
    "    a=int(input())\n",
    "    b=0\n",
    "    for i in range(0,a+1):\n",
    "        b=b+i\n",
    "    print(\"Sum of first\",a,\"natural numbers is\",b)\n",
    "    \n",
    "except Exception as e:\n",
    "    print(e)"
   ]
  },
  {
   "cell_type": "code",
   "execution_count": null,
   "id": "395becff",
   "metadata": {},
   "outputs": [],
   "source": []
  }
 ],
 "metadata": {
  "kernelspec": {
   "display_name": "Python 3 (ipykernel)",
   "language": "python",
   "name": "python3"
  },
  "language_info": {
   "codemirror_mode": {
    "name": "ipython",
    "version": 3
   },
   "file_extension": ".py",
   "mimetype": "text/x-python",
   "name": "python",
   "nbconvert_exporter": "python",
   "pygments_lexer": "ipython3",
   "version": "3.9.7"
  }
 },
 "nbformat": 4,
 "nbformat_minor": 5
}
