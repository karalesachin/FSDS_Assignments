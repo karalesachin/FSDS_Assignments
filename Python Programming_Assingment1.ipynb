{
 "cells": [
  {
   "cell_type": "code",
   "execution_count": 10,
   "id": "d9e51182",
   "metadata": {},
   "outputs": [
    {
     "name": "stdout",
     "output_type": "stream",
     "text": [
      "Hello Python\n"
     ]
    }
   ],
   "source": [
    "#1. Write a Python program to print \"Hello Python\"?\n",
    "\n",
    "print(\"Hello Python\")"
   ]
  },
  {
   "cell_type": "code",
   "execution_count": 11,
   "id": "4fd43118",
   "metadata": {},
   "outputs": [
    {
     "name": "stdout",
     "output_type": "stream",
     "text": [
      "20\n",
      "10\n",
      "20 + 10 = 30\n",
      "20 - 10 = 10\n",
      "20 * 10 = 200\n",
      "20 / 10 = 2.0\n"
     ]
    }
   ],
   "source": [
    "#2. Write a Python program to do arithmetical operations addition and division.?\n",
    "\n",
    "a=int(input())\n",
    "b=int(input())\n",
    "\n",
    "print(a, \"+\",  b, '=', a+b)\n",
    "print(a, \"-\",  b, '=', a-b)\n",
    "print(a, \"*\",  b, '=', a*b)\n",
    "print(a, \"/\",  b, '=', a/b)"
   ]
  },
  {
   "cell_type": "code",
   "execution_count": 12,
   "id": "b7305d7e",
   "metadata": {},
   "outputs": [
    {
     "name": "stdout",
     "output_type": "stream",
     "text": [
      "15\n",
      "10\n",
      "Area of Triangle =  75.0\n"
     ]
    }
   ],
   "source": [
    "# 3. Write a Python program to find the area of a triangle?\n",
    "\n",
    "b = int(input())\n",
    "h = int(input())\n",
    "\n",
    "area = 0.5 * b * h\n",
    "print (\"Area of Triangle = \", area)"
   ]
  },
  {
   "cell_type": "code",
   "execution_count": 13,
   "id": "9b7e1149",
   "metadata": {},
   "outputs": [
    {
     "name": "stdout",
     "output_type": "stream",
     "text": [
      "15\n",
      "10\n",
      "a=  15\n",
      "b=  10\n",
      "Swapped values\n",
      "a=  10\n",
      "b=  15\n"
     ]
    }
   ],
   "source": [
    "# 4. Write a Python program to swap two variables?\n",
    "\n",
    "a = int(input())\n",
    "b = int(input())\n",
    "print (\"a= \", a)\n",
    "print (\"b= \", b)\n",
    "\n",
    "a = a+b\n",
    "b = a-b\n",
    "a = a-b\n",
    "\n",
    "print (\"Swapped values\")\n",
    "print (\"a= \", a)\n",
    "print (\"b= \", b)"
   ]
  },
  {
   "cell_type": "code",
   "execution_count": 14,
   "id": "4b0cf7df",
   "metadata": {},
   "outputs": [
    {
     "name": "stdout",
     "output_type": "stream",
     "text": [
      "[541, 14, 198, 332, 988, 208, 932, 463, 68, 649]\n"
     ]
    }
   ],
   "source": [
    "# 5. Write a Python program to generate a random number?\n",
    "\n",
    "import random\n",
    "l=[]\n",
    "\n",
    "for i in range(10):\n",
    "    r = random.randint(1,1000)\n",
    "    l.append(r)\n",
    "    \n",
    "print(l)"
   ]
  },
  {
   "cell_type": "code",
   "execution_count": null,
   "id": "3e535e17",
   "metadata": {},
   "outputs": [],
   "source": []
  }
 ],
 "metadata": {
  "kernelspec": {
   "display_name": "Python 3 (ipykernel)",
   "language": "python",
   "name": "python3"
  },
  "language_info": {
   "codemirror_mode": {
    "name": "ipython",
    "version": 3
   },
   "file_extension": ".py",
   "mimetype": "text/x-python",
   "name": "python",
   "nbconvert_exporter": "python",
   "pygments_lexer": "ipython3",
   "version": "3.9.7"
  }
 },
 "nbformat": 4,
 "nbformat_minor": 5
}
