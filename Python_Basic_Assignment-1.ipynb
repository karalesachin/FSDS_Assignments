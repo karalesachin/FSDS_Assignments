{
 "cells": [
  {
   "cell_type": "code",
   "execution_count": null,
   "id": "247b9ce3",
   "metadata": {},
   "outputs": [],
   "source": [
    "1. In the below elements which of them are values or an expression? eg:- values can be integer or string and expressions will be mathematical operators.\n",
    "\n",
    "Solution:\n",
    "\n",
    "*        Expression\n",
    "\n",
    "'hello'  Value\n",
    "\n",
    "-87.8    Value\n",
    "\n",
    "-        Expression\n",
    "\n",
    "/        Expression\n",
    "\n",
    "+        Expression\n",
    "\n",
    "6        Value\n"
   ]
  },
  {
   "cell_type": "code",
   "execution_count": null,
   "id": "0716a99c",
   "metadata": {},
   "outputs": [],
   "source": [
    "2. What is the difference between string and variable?\n",
    "\n",
    "Solution:\n",
    "String is a value which represents Text. Variable is an entity which refers to any value such as integer, float, string, boolean, list, dictonary, etc."
   ]
  },
  {
   "cell_type": "code",
   "execution_count": null,
   "id": "c6cc98cb",
   "metadata": {},
   "outputs": [],
   "source": [
    "3. Describe three different data types.\n",
    "\n",
    "Solution:\n",
    "a) Numeric data types - represents data which has numeric value \n",
    "    - Integer - contains positive or negative whole numbers (without fraction or decimal)\n",
    "    - Float - real number with floating point representation. It is specified by decimal point.\n",
    "    - Complex Numbers - it is specified as real part + imaginary part.\n",
    "    \n",
    "b) Sequence type - ordered collection of similar or different data types.\n",
    "    - String - collection of one or more characters put in single or double quote.\n",
    "    - List - collection of items which can be of same or different type and are placed in square brackets [].\n",
    "    - Tuple - collection of items which are immutable i.e. cannot be modified after creation and are placed in ().\n",
    "    \n",
    "c) Boolean which has one of the two built-in values, True or False."
   ]
  },
  {
   "cell_type": "code",
   "execution_count": null,
   "id": "387956ed",
   "metadata": {},
   "outputs": [],
   "source": [
    "4. What is an expression made up of? What do all expressions do?\n",
    "\n",
    "Solution:\n",
    "Expression comprises values, operators, variables and containers. Expressions are used to evaluate values with help of operators and produce the result to the user or store in some variable or container."
   ]
  },
  {
   "cell_type": "code",
   "execution_count": null,
   "id": "3132c305",
   "metadata": {},
   "outputs": [],
   "source": [
    "5. This assignment statements, like spam = 10. What is the difference between an expression and a statement?\n",
    "\n",
    "Solution:\n",
    "Expression is combination of values, operators, variables and containers which executes and returns a result.\n",
    "\n",
    "Statement is an instruction or command that python interpreter executes and does not return any value."
   ]
  },
  {
   "cell_type": "code",
   "execution_count": null,
   "id": "89b3cf54",
   "metadata": {},
   "outputs": [],
   "source": [
    "6. After running the following code, what does the variable bacon contain?\n",
    "bacon = 22\n",
    "bacon + 1\n",
    "\n",
    "Solution:\n",
    "bacon variable contains 23."
   ]
  },
  {
   "cell_type": "code",
   "execution_count": null,
   "id": "2ecf6fe6",
   "metadata": {},
   "outputs": [],
   "source": [
    "7. What should the values of the following two terms be?\n",
    "'spam' + 'spamspam'\n",
    "'spam' * 3\n",
    "\n",
    "Solution:\n",
    "'spamspamspam'\n",
    "'spamspamspam"
   ]
  },
  {
   "cell_type": "code",
   "execution_count": null,
   "id": "8c9c9d6d",
   "metadata": {},
   "outputs": [],
   "source": [
    "8. Why is eggs a valid variable name while 100 is invalid?\n",
    "\n",
    "Solution:\n",
    "Variable name should begin with string, hence eggs is valid variable name. However variable name cannot start with an integer, hence 100 is an invalid variable name."
   ]
  },
  {
   "cell_type": "code",
   "execution_count": null,
   "id": "402b35ea",
   "metadata": {},
   "outputs": [],
   "source": [
    "9. What three functions can be used to get the integer, floating-point number, or string version of a value?\n",
    "\n",
    "Solution:\n",
    "int()\n",
    "float()\n",
    "str()"
   ]
  },
  {
   "cell_type": "code",
   "execution_count": null,
   "id": "e56ccd30",
   "metadata": {},
   "outputs": [],
   "source": [
    "10. Why does this expression cause an error? How can you fix it?\n",
    "'I have eaten ' + 99 + ' burritos.'\n",
    "\n",
    "Solution:\n",
    "Error message : can only concatenate str (not \"int\") to str.\n",
    "Integer 99 need to be typecasted to str to execute this expression.\n",
    "'I have eaten ' + str(99) + ' burritos.'"
   ]
  }
 ],
 "metadata": {
  "kernelspec": {
   "display_name": "Python 3 (ipykernel)",
   "language": "python",
   "name": "python3"
  },
  "language_info": {
   "codemirror_mode": {
    "name": "ipython",
    "version": 3
   },
   "file_extension": ".py",
   "mimetype": "text/x-python",
   "name": "python",
   "nbconvert_exporter": "python",
   "pygments_lexer": "ipython3",
   "version": "3.9.7"
  }
 },
 "nbformat": 4,
 "nbformat_minor": 5
}
